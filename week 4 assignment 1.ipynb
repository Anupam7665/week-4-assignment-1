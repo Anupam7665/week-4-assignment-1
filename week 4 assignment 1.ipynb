{
 "cells": [
  {
   "cell_type": "markdown",
   "id": "fe4a80b7-6e77-4f71-8677-a48a059eaa69",
   "metadata": {},
   "source": [
    "### Q1. Explain Class and Object with respect to Object-Oriented Programming. Give a suitable example."
   ]
  },
  {
   "cell_type": "markdown",
   "id": "72e5760a-87dc-4dd9-899d-3b08206b1412",
   "metadata": {},
   "source": [
    "Class is like a recipe that specifies what data or beahavior an object  that class have .\n",
    "\n",
    "Object is a instance of class it means we creating a object based on entity  provided by the class.\n",
    "\n",
    "for eg\n",
    "\n",
    "In below eg a car is a class and its 2 object car1 and car2"
   ]
  },
  {
   "cell_type": "code",
   "execution_count": null,
   "id": "3a75d1d5-59d4-4426-bcff-0ae4f43bc25a",
   "metadata": {},
   "outputs": [],
   "source": [
    "class car:\n",
    "    car1=car(\"toyota\",\"model2\",2019)\n",
    "    car2=car(\"tesla\",\"model3\",2022)"
   ]
  },
  {
   "cell_type": "markdown",
   "id": "69d67111-ee05-4875-bd34-f36239c74346",
   "metadata": {},
   "source": [
    "###  Q2. Name the four pillars of OOPs."
   ]
  },
  {
   "cell_type": "markdown",
   "id": "df259af6-a6bd-4191-9577-d697cf88bc04",
   "metadata": {},
   "source": [
    "Ecapsulation: It is uesd to bind the data and protecting it from unauthorized modification and hidding from the user also. "
   ]
  },
  {
   "cell_type": "markdown",
   "id": "ab10884d-1a9d-4d02-a736-08c6388469d8",
   "metadata": {},
   "source": [
    "Abstaction: It provide a simplified object in the form of class and hide the unecessary detail"
   ]
  },
  {
   "cell_type": "markdown",
   "id": "e6975a15-79b7-4caa-9aea-10b9f2140cee",
   "metadata": {},
   "source": [
    "Polymorphism: An entity which have multiple behaviour in any circumstance called as polymorphism "
   ]
  },
  {
   "cell_type": "markdown",
   "id": "b9408df9-330c-4fc2-8782-06f110b35c38",
   "metadata": {},
   "source": [
    "inheritance: The property of one class(i.e parent class) can be inherited  by the property of another class (i.e child the class) is known inheritance"
   ]
  },
  {
   "cell_type": "markdown",
   "id": "113523f6-f48d-4a16-b645-5fae3c08e9ee",
   "metadata": {},
   "source": [
    "### Q3. Explain why the __init__() function is used. Give a suitable example."
   ]
  },
  {
   "cell_type": "markdown",
   "id": "5ba00d8a-8d0a-47b3-8bad-97e068597df2",
   "metadata": {},
   "source": [
    "init() is knows as a constructor which take the data from the object of the class .It is used to initialize the data from the object of the class"
   ]
  },
  {
   "cell_type": "code",
   "execution_count": 29,
   "id": "7ee14a62-87dc-4cea-ae8e-05cdf7f39a90",
   "metadata": {},
   "outputs": [],
   "source": [
    "class pizzahut:\n",
    "    \n",
    "    def __init__(self,number_of_outlet,location):\n",
    "        self.number_of_outlet=number_of_outlet\n",
    "        self.location=location\n",
    "        \n",
    "        \n",
    "    def outlet_details(self):\n",
    "            return self.number_of_outlet,self.location"
   ]
  },
  {
   "cell_type": "code",
   "execution_count": 30,
   "id": "e1264028-a828-4e8d-9225-32707fc12489",
   "metadata": {},
   "outputs": [],
   "source": [
    "object_pizza_details=pizzahut(500,\"mumbai\")"
   ]
  },
  {
   "cell_type": "code",
   "execution_count": 31,
   "id": "855ff380-38c5-4d06-ad8d-2d6dd615e3e5",
   "metadata": {},
   "outputs": [
    {
     "data": {
      "text/plain": [
       "(500, 'mumbai')"
      ]
     },
     "execution_count": 31,
     "metadata": {},
     "output_type": "execute_result"
    }
   ],
   "source": [
    "object_pizza_details.outlet_details()"
   ]
  },
  {
   "cell_type": "markdown",
   "id": "571bae1f-cc1a-45ce-85f6-a07be37059ca",
   "metadata": {},
   "source": [
    "### Q4. Why self is used in OOPs?"
   ]
  },
  {
   "cell_type": "markdown",
   "id": "8f12e721-dc69-417b-9512-e7b3a3b96ddc",
   "metadata": {},
   "source": [
    "Any class when we acess its variable is known as self . Self is like a pointer which provide reference thorugh class"
   ]
  },
  {
   "cell_type": "markdown",
   "id": "b8ce6daf-2183-4732-8fbf-d1465d323741",
   "metadata": {},
   "source": [
    " ### Q5. What is inheritance? Give an example for each type of inheritance."
   ]
  },
  {
   "cell_type": "markdown",
   "id": "83cbae56-e4a9-423d-b3a2-7f77bfc6b62f",
   "metadata": {},
   "source": [
    "The property of one class(i.e parent class) can be inherited by the property of another class (i.e child the class) is known inheritance"
   ]
  },
  {
   "cell_type": "markdown",
   "id": "0fe720be-6bfc-4b9c-9dfd-18faa47efb41",
   "metadata": {},
   "source": [
    "Multilevel inheritance: The property of one class i.e (parent class) can be inherited by the another class i.e (child class) and the property of (child class) can be inherited by the any other class.It is also inherited the  property of (parent class) as well    "
   ]
  },
  {
   "cell_type": "code",
   "execution_count": 2,
   "id": "06771714-5880-4093-902d-9317a978722f",
   "metadata": {},
   "outputs": [],
   "source": [
    "class college:\n",
    "    \n",
    "    def college1(self):\n",
    "        return \"it is a department of college section\""
   ]
  },
  {
   "cell_type": "code",
   "execution_count": 3,
   "id": "757d162c-c93d-4da6-ab07-e4d0b1c2bbde",
   "metadata": {},
   "outputs": [],
   "source": [
    "class school(college):\n",
    "    \n",
    "    \n",
    "    def school1(self):\n",
    "        return \"it is a department of school section\"\n",
    "        "
   ]
  },
  {
   "cell_type": "code",
   "execution_count": 4,
   "id": "1c56f204-e8e8-4e7a-a9eb-46c35782909e",
   "metadata": {},
   "outputs": [],
   "source": [
    "class university(school):\n",
    "    pass"
   ]
  },
  {
   "cell_type": "code",
   "execution_count": 5,
   "id": "ec5bd43a-f307-4809-b7a3-ffc0bdfe91af",
   "metadata": {},
   "outputs": [],
   "source": [
    "obj_university=university()"
   ]
  },
  {
   "cell_type": "code",
   "execution_count": 6,
   "id": "a95888c3-cb40-4536-b07a-b58f068ba558",
   "metadata": {},
   "outputs": [
    {
     "data": {
      "text/plain": [
       "'it is a department of college section'"
      ]
     },
     "execution_count": 6,
     "metadata": {},
     "output_type": "execute_result"
    }
   ],
   "source": [
    "obj_university.college1()"
   ]
  },
  {
   "cell_type": "code",
   "execution_count": 7,
   "id": "fbd310cd-08f8-409c-9abe-fdffb3637d67",
   "metadata": {},
   "outputs": [
    {
     "data": {
      "text/plain": [
       "'it is a department of school section'"
      ]
     },
     "execution_count": 7,
     "metadata": {},
     "output_type": "execute_result"
    }
   ],
   "source": [
    "obj_university.school1()"
   ]
  },
  {
   "cell_type": "markdown",
   "id": "a8aac1ce-e571-4e37-b636-85902571d88f",
   "metadata": {},
   "source": [
    "Multiple inheritance:When the property of parent class and child class can be inherited the property(simultaneously) by the another class is called as multiple class"
   ]
  },
  {
   "cell_type": "code",
   "execution_count": 16,
   "id": "236eb0b2-a460-46b0-88f3-c593182b54c9",
   "metadata": {},
   "outputs": [],
   "source": [
    "class dance:\n",
    "    \n",
    "    def dance_style(self):\n",
    "        return \"it is a hip_hop style\""
   ]
  },
  {
   "cell_type": "code",
   "execution_count": 17,
   "id": "a7bf8ca4-df93-43ac-8dd1-05eb9ab99e25",
   "metadata": {},
   "outputs": [],
   "source": [
    "class dance1:\n",
    "    \n",
    "    def dance_style1(self):\n",
    "        return \"it is a bollywood style\""
   ]
  },
  {
   "cell_type": "code",
   "execution_count": 18,
   "id": "d14c08da-dee6-4d46-9ecf-134203db10fb",
   "metadata": {},
   "outputs": [],
   "source": [
    "class dance3(dance,dance1):\n",
    "    pass"
   ]
  },
  {
   "cell_type": "code",
   "execution_count": 19,
   "id": "b2835c48-d0b8-4f97-837e-608ecb8f55a1",
   "metadata": {},
   "outputs": [],
   "source": [
    "obj_dance3=dance3()"
   ]
  },
  {
   "cell_type": "code",
   "execution_count": 20,
   "id": "e45d95ef-ce81-4ba1-b19d-479583bf4bcd",
   "metadata": {},
   "outputs": [
    {
     "data": {
      "text/plain": [
       "'it is a bollywood style'"
      ]
     },
     "execution_count": 20,
     "metadata": {},
     "output_type": "execute_result"
    }
   ],
   "source": [
    "obj_dance3.dance_style1()"
   ]
  },
  {
   "cell_type": "code",
   "execution_count": null,
   "id": "cfc2c7a7-25b1-4904-96ae-427e45583031",
   "metadata": {},
   "outputs": [],
   "source": []
  }
 ],
 "metadata": {
  "kernelspec": {
   "display_name": "Python 3 (ipykernel)",
   "language": "python",
   "name": "python3"
  },
  "language_info": {
   "codemirror_mode": {
    "name": "ipython",
    "version": 3
   },
   "file_extension": ".py",
   "mimetype": "text/x-python",
   "name": "python",
   "nbconvert_exporter": "python",
   "pygments_lexer": "ipython3",
   "version": "3.10.8"
  }
 },
 "nbformat": 4,
 "nbformat_minor": 5
}
