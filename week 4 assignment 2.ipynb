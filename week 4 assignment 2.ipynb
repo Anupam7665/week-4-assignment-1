{
 "cells": [
  {
   "cell_type": "markdown",
   "id": "5d423d5b-d749-4ce6-a90d-c6af91a6a59f",
   "metadata": {},
   "source": [
    "### Q1. What is Abstraction in OOps? Explain with an example."
   ]
  },
  {
   "cell_type": "markdown",
   "id": "e9f2851a-66cb-41dc-956e-7b48aae580cd",
   "metadata": {},
   "source": [
    " Abstraction is a hiding the internal details fromthe user and showing the features"
   ]
  },
  {
   "cell_type": "code",
   "execution_count": 1,
   "id": "81545df0-c71c-40ed-b3ca-cde4b1612209",
   "metadata": {},
   "outputs": [],
   "source": [
    "import abc\n",
    "class news_channel:\n",
    "    \n",
    "    \n",
    "    @abc.abstractmethod\n",
    "    def aaj_tak(self):\n",
    "        pass\n",
    "    \n",
    "    \n",
    "    @abc.abstractmethod\n",
    "    def Zee_news(self):\n",
    "        pass\n",
    "    \n",
    "    \n",
    "    @abc.abstractmethod\n",
    "    def News_18_india(self):\n",
    "        pass\n",
    "    \n",
    "    "
   ]
  },
  {
   "cell_type": "code",
   "execution_count": 3,
   "id": "341be500-627b-4fa6-a413-7d161fb5153a",
   "metadata": {},
   "outputs": [],
   "source": [
    "class News_anchor(news_channel):\n",
    "    \n",
    "    def aaj_tak(self):\n",
    "        return \"Sudhir chaudhary\"\n",
    "    \n",
    "    def Zee_news(self):\n",
    "        return \"Rohit ranjan\""
   ]
  },
  {
   "cell_type": "code",
   "execution_count": 5,
   "id": "152219bb-3877-4ab9-8258-b332556357b9",
   "metadata": {},
   "outputs": [],
   "source": [
    "class prime_time_show(news_channel):\n",
    "    \n",
    "    def aaj_tak(self):\n",
    "        return \"black and white\"\n",
    "        \n",
    "    def Zee_news(self):\n",
    "        return \"daily news anaysis\"\n",
    "        \n"
   ]
  },
  {
   "cell_type": "code",
   "execution_count": 6,
   "id": "3278ddb0-299e-4200-a7b8-79b51f256873",
   "metadata": {},
   "outputs": [],
   "source": [
    "shows=News_anchor()"
   ]
  },
  {
   "cell_type": "code",
   "execution_count": 7,
   "id": "36fccfa1-730d-4b72-9e24-185c93c1ed72",
   "metadata": {},
   "outputs": [
    {
     "data": {
      "text/plain": [
       "'Sudhir chaudhary'"
      ]
     },
     "execution_count": 7,
     "metadata": {},
     "output_type": "execute_result"
    }
   ],
   "source": [
    "shows.aaj_tak()"
   ]
  },
  {
   "cell_type": "code",
   "execution_count": 8,
   "id": "0862d65b-dc5d-4345-9860-5319865e62a5",
   "metadata": {},
   "outputs": [],
   "source": [
    "shows=prime_time_show()"
   ]
  },
  {
   "cell_type": "code",
   "execution_count": 10,
   "id": "22256817-a9ef-43b3-8779-263933bcaba7",
   "metadata": {},
   "outputs": [
    {
     "data": {
      "text/plain": [
       "'black and white'"
      ]
     },
     "execution_count": 10,
     "metadata": {},
     "output_type": "execute_result"
    }
   ],
   "source": [
    "shows.aaj_tak()"
   ]
  },
  {
   "cell_type": "markdown",
   "id": "ff63730d-bd7f-45bc-b604-d581eb2c2b85",
   "metadata": {},
   "source": [
    "### Q2. Differentiate between Abstraction and Encapsulation. Explain with an example."
   ]
  },
  {
   "cell_type": "markdown",
   "id": "349d65ae-ae33-4976-8a41-d95a8ce497e5",
   "metadata": {},
   "source": [
    "Absraction is hiding the data of the class while Encapsualtion is binding the data in single unit of a class"
   ]
  },
  {
   "cell_type": "code",
   "execution_count": 1,
   "id": "606da85c-cdbf-4191-bfd2-40243a484c98",
   "metadata": {},
   "outputs": [],
   "source": [
    "class Person():\n",
    "    def __init__(self, name, age) -> None:\n",
    "        self.__name = name\n",
    "        self.__age = age\n",
    "\n",
    "    def display(self):\n",
    "        return f'{self.__name = }'\n",
    "\n",
    "    def set_name(self, name):\n",
    "        if isinstance(name, str):\n",
    "            self.__name = name\n",
    "        else:\n",
    "            raise TypeError\n",
    "\n",
    "    def get_name(self):\n",
    "        return self.__name\n",
    "\n",
    "    def set_age(self, age):\n",
    "        if isinstance(age, int):\n",
    "            self.__age = age\n",
    "        else:\n",
    "            raise TypeError\n",
    "\n",
    "    def get_age(self):\n",
    "        return self.__age"
   ]
  },
  {
   "cell_type": "code",
   "execution_count": null,
   "id": "80d2db5c-afb3-4311-ad1b-76a2195b3bda",
   "metadata": {},
   "outputs": [],
   "source": [
    "p1 = Person('Anup', 18)\n",
    "\n",
    "p1.set_name('Anup gupta')\n",
    "p1.set_age('Verma')  # Throw error because of the implimented condition."
   ]
  },
  {
   "cell_type": "markdown",
   "id": "1f51195f-858a-4389-9588-ffdb49f7016c",
   "metadata": {},
   "source": [
    "### Q3. What is abc module in python? Why is it used? "
   ]
  },
  {
   "cell_type": "markdown",
   "id": "876f6c18-5118-4641-8bea-c720df3f91f6",
   "metadata": {},
   "source": [
    "the abc (abstract base class)module in python which allow the blueprint of a class by specifying which method is abstract and concrete. "
   ]
  },
  {
   "cell_type": "markdown",
   "id": "38178a63-df88-43ea-bc37-16c1d0b3e73e",
   "metadata": {},
   "source": [
    " ### Q4. How can we achieve data abstraction?"
   ]
  },
  {
   "cell_type": "markdown",
   "id": "f51214b3-78e0-43ab-93a5-258b7e9293ec",
   "metadata": {},
   "source": [
    "Data abstraction is the process of hiding the essential data and only show that data which is important for tee user \n",
    "\n",
    "To achieve an data abstraction, an abstract class method which is implemented by its sub_classes and its also does not create an object by its own. In this way we can achive the data abstraction"
   ]
  },
  {
   "cell_type": "markdown",
   "id": "6f3cb427-b831-484b-8bb8-b28ed4142967",
   "metadata": {},
   "source": [
    "### Can we create an instance of an abstract class? Explain your answer."
   ]
  },
  {
   "cell_type": "markdown",
   "id": "005cc439-1b88-443d-ba1a-3bde7b9fabee",
   "metadata": {},
   "source": [
    "No, we cannot create an instance of an abstract class because it is a blueprint of a class.\n",
    "\n",
    "but we can  create an another class i.e sub_class which inherit the method of abstract class"
   ]
  },
  {
   "cell_type": "code",
   "execution_count": null,
   "id": "432b681a-b99c-4bfe-b77f-6d1654352337",
   "metadata": {},
   "outputs": [],
   "source": []
  }
 ],
 "metadata": {
  "kernelspec": {
   "display_name": "Python 3 (ipykernel)",
   "language": "python",
   "name": "python3"
  },
  "language_info": {
   "codemirror_mode": {
    "name": "ipython",
    "version": 3
   },
   "file_extension": ".py",
   "mimetype": "text/x-python",
   "name": "python",
   "nbconvert_exporter": "python",
   "pygments_lexer": "ipython3",
   "version": "3.10.8"
  }
 },
 "nbformat": 4,
 "nbformat_minor": 5
}
